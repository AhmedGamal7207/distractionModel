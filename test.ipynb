{
 "cells": [
  {
   "cell_type": "code",
   "execution_count": 1,
   "metadata": {},
   "outputs": [
    {
     "name": "stdout",
     "output_type": "stream",
     "text": [
      "Collecting flask_cors\n",
      "  Using cached Flask_Cors-5.0.0-py2.py3-none-any.whl.metadata (5.5 kB)\n",
      "Requirement already satisfied: Flask>=0.9 in d:\\work\\genio tech online\\ai models\\workspace\\distractionmodel\\testenv1\\lib\\site-packages (from flask_cors) (3.1.0)\n",
      "Requirement already satisfied: Werkzeug>=3.1 in d:\\work\\genio tech online\\ai models\\workspace\\distractionmodel\\testenv1\\lib\\site-packages (from Flask>=0.9->flask_cors) (3.1.3)\n",
      "Requirement already satisfied: Jinja2>=3.1.2 in d:\\work\\genio tech online\\ai models\\workspace\\distractionmodel\\testenv1\\lib\\site-packages (from Flask>=0.9->flask_cors) (3.1.5)\n",
      "Requirement already satisfied: itsdangerous>=2.2 in d:\\work\\genio tech online\\ai models\\workspace\\distractionmodel\\testenv1\\lib\\site-packages (from Flask>=0.9->flask_cors) (2.2.0)\n",
      "Requirement already satisfied: click>=8.1.3 in d:\\work\\genio tech online\\ai models\\workspace\\distractionmodel\\testenv1\\lib\\site-packages (from Flask>=0.9->flask_cors) (8.1.8)\n",
      "Requirement already satisfied: blinker>=1.9 in d:\\work\\genio tech online\\ai models\\workspace\\distractionmodel\\testenv1\\lib\\site-packages (from Flask>=0.9->flask_cors) (1.9.0)\n",
      "Requirement already satisfied: colorama in d:\\work\\genio tech online\\ai models\\workspace\\distractionmodel\\testenv1\\lib\\site-packages (from click>=8.1.3->Flask>=0.9->flask_cors) (0.4.6)\n",
      "Requirement already satisfied: MarkupSafe>=2.0 in d:\\work\\genio tech online\\ai models\\workspace\\distractionmodel\\testenv1\\lib\\site-packages (from Jinja2>=3.1.2->Flask>=0.9->flask_cors) (3.0.2)\n",
      "Using cached Flask_Cors-5.0.0-py2.py3-none-any.whl (14 kB)\n",
      "Installing collected packages: flask_cors\n",
      "Successfully installed flask_cors-5.0.0\n",
      "Note: you may need to restart the kernel to use updated packages.\n"
     ]
    },
    {
     "name": "stderr",
     "output_type": "stream",
     "text": [
      "\n",
      "[notice] A new release of pip is available: 24.2 -> 25.0\n",
      "[notice] To update, run: python.exe -m pip install --upgrade pip\n"
     ]
    }
   ],
   "source": [
    "pip install flask_cors"
   ]
  },
  {
   "cell_type": "code",
   "execution_count": null,
   "metadata": {},
   "outputs": [],
   "source": [
    "import keras\n",
    "print(keras.__version__)"
   ]
  }
 ],
 "metadata": {
  "kernelspec": {
   "display_name": "testenv1",
   "language": "python",
   "name": "python3"
  },
  "language_info": {
   "codemirror_mode": {
    "name": "ipython",
    "version": 3
   },
   "file_extension": ".py",
   "mimetype": "text/x-python",
   "name": "python",
   "nbconvert_exporter": "python",
   "pygments_lexer": "ipython3",
   "version": "3.10.4"
  },
  "orig_nbformat": 4
 },
 "nbformat": 4,
 "nbformat_minor": 2
}
